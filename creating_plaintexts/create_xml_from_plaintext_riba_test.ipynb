{
 "cells": [
  {
   "cell_type": "markdown",
   "metadata": {},
   "source": [
    "# Plaintext to XML conversion\n",
    "\n",
    "Once we have decided on suitable corpus for conversion we need to convert the plaintext to XML format.\n",
    "This particular XML format is used by tagging tools in NLP for Latvian language to create annotated corpora in .vert format suitable for compilation by NoSketch Engine.\n",
    "\n",
    "## XML format \n",
    "\n",
    "This XML format is as follows, each document is enclosed in `<doc>` and finishes with `</doc>`.\n",
    "Doc tag could also have attributes such as creator, title, date, etc.\n",
    "For example `<doc id=\"1\" title=\"Paul Clifford\" year=\"1830\" creator=\"Edward Bulwer-Lytton\">It was a dark and stormy night</doc>`\n",
    "\n",
    " This is a simple process and can be done using the following steps:\n",
    "1. Obtain list of plaintext files (could be inside zip file(s)) from desired source location\n",
    "2. Read indivudal plaintext file(s) and convert to XML format\n",
    "3. Concatenate all XML files into a single XML file \n",
    "4. Save the final XML file into desired destination location\n",
    "\n",
    "## Particulars of plaintext file\n",
    "\n",
    "Our plaintext files contain metadata information at the beginning of the file, followed by the actual text.\n",
    "The metadata information is separated by three or more newlines from the actual text.\n",
    "Metadata has the format `key: value` and each key-value pair is separated by newline.\n",
    "In addition some metadata is provided by filename itself, for example filename could be `author_title_year.txt` and this information can be extracted from filename."
   ]
  },
  {
   "cell_type": "code",
   "execution_count": 1,
   "metadata": {},
   "outputs": [
    {
     "name": "stdout",
     "output_type": "stream",
     "text": [
      "Python version: 3.12.6 (tags/v3.12.6:a4a2d2b, Sep  6 2024, 20:11:23) [MSC v.1940 64 bit (AMD64)]\n",
      "Current date and time: 2024-11-08 11:35:35.719556\n"
     ]
    }
   ],
   "source": [
    "# import standard libraries\n",
    "from pathlib import Path\n",
    "import zipfile\n",
    "from datetime import datetime\n",
    "import re\n",
    "# we could use XML libraries but for this simple task we can use string manipulation\n",
    "import sys\n",
    "# print Python version\n",
    "print(f\"Python version: {sys.version}\")\n",
    "# datetime to see when the script was run last\n",
    "print(f\"Current date and time: {datetime.now()}\")\n",
    "# import third-party libraries\n",
    "from tqdm import tqdm"
   ]
  },
  {
   "cell_type": "markdown",
   "metadata": {},
   "source": [
    "## Sample Plaintext files from sample zip file - case of \"Raksti un Māksla\" from 1940\n",
    "\n",
    "We will be exploring plaintext files found in collection of \"Raksti un Māksla\" (English translation: Articles and Art) - a short lived publication from 1940 containing only 6 issues.\n",
    "We already have segmented plaintext files in zip format, which we will be using for conversion to XML format."
   ]
  },
  {
   "cell_type": "code",
   "execution_count": 2,
   "metadata": {},
   "outputs": [
    {
     "name": "stdout",
     "output_type": "stream",
     "text": [
      "Number of files in the zip file: 221\n",
      "Number of text files in the zip file: 220\n"
     ]
    }
   ],
   "source": [
    "zip_file = Path(r\"I:\\zips\\articles\\raksti_un_maksla_articles.zip\") # note we use r to indicate raw string, easier to work with Windows paths\n",
    "# assert that the file exists\n",
    "assert zip_file.exists(), \"File not found\"\n",
    "# how many files are in the zip file\n",
    "with zipfile.ZipFile(zip_file, 'r') as zip_ref:\n",
    "    files = zip_ref.namelist()\n",
    "    print(f\"Number of files in the zip file: {len(files)}\")\n",
    "# how many of those are text files\n",
    "text_files = [f for f in files if f.endswith(\".txt\")]\n",
    "print(f\"Number of text files in the zip file: {len(text_files)}\")"
   ]
  },
  {
   "cell_type": "code",
   "execution_count": 11,
   "metadata": {},
   "outputs": [
    {
     "name": "stdout",
     "output_type": "stream",
     "text": [
      "Opening file: raksti_un_maksla_articles/rama1940n01_005_plaintext_s01.txt\n",
      "--------------------\n",
      "title: SATURA RĀDĪTĀJS\n",
      "subheadline: \n",
      "author: \n",
      "section: \n",
      "uri: http://dom.lndb.lv/data/obj/125563\n",
      "\n",
      "\n",
      "\n",
      "I\n",
      "i. VISPĀRĒJIE RAKSTI LPP.\n",
      "Baumanis, A. Pieci gadi . . . . . .. . 119\n",
      "— Gaumi un paliekošas vērtības . . . . . . . . . . . . 213\n",
      "Druva, J. Strādāt un vērtēt . . . . . . . . . . . . . . 5\n",
      "ļurevičs, P. Tradiciju jēga 7\n",
      "Kalve, V. Svētīts ir darbs! ... . 121\n",
      "Tichovskis, H. Jaunā Latgale 4°5\n",
      "Ulmanis, K. Draudzīgais aicinājums . . . . 117\n",
      "2. RAKSTNIECĪBA UN ŽURNĀLISTIKA\n",
      "Aistars, E. Dzīvais cilvēks . . . .. . . . . 319\n",
      "Baumanis, A, Žurnālista piezīmes . . 413\n",
      "Bičolis, J. Par literātūras kritiku . . . ... . 420\n",
      "Cedriņš, V. Edvarta Virzas piemiņai • 222\n"
     ]
    }
   ],
   "source": [
    "# let's print first 20 rows from first file\n",
    "with zipfile.ZipFile(zip_file, 'r') as zip_ref:\n",
    "    print(f\"Opening file: {text_files[0]}\")\n",
    "    print(\"-\"*20)\n",
    "    with zip_ref.open(text_files[0]) as file:\n",
    "        for i, line in enumerate(file):\n",
    "            print(line.decode(\"utf-8\"), end=\"\") # lines have newline character at the end, so we don't need to add it\n",
    "            if i > 20:\n",
    "                break\n",
    "\n",
    "# we should see the metadata in the first 20 rows \n",
    "# followed by some newlines \n",
    "# we should see start of the text after that"
   ]
  },
  {
   "cell_type": "code",
   "execution_count": 3,
   "metadata": {},
   "outputs": [
    {
     "name": "stdout",
     "output_type": "stream",
     "text": [
      "rama1940n01_005_plaintext_s01\n",
      "{'shortPublicationName': 'rama', 'dateIssued': '1940', 'issueNumber': '01', 'page': '005'}\n"
     ]
    }
   ],
   "source": [
    "# get file name without extension and without parent folder\n",
    "def get_file_name(file_path):\n",
    "    return file_path.stem\n",
    "# test on first file\n",
    "print(get_file_name(Path(text_files[0])))\n",
    "\n",
    "# we can get some metadata from this file name such as dateIssued, issue, page number, short_publication_name\n",
    "# so given rama1940n01_005_plaintext_s01 we would extract following key value pairs in a dictionary\n",
    "# {\n",
    "# \"shortPublicationName\": \"rama\",    \n",
    "# \"dateIssued\": 1940,\n",
    "# \"issueNumber\": 1,\n",
    "# \"page\": 5\n",
    "# let's write a function to extract these values\n",
    "def get_meta_from_filename(src: Path|str) -> dict[str, str]:\n",
    "    src = Path(src)\n",
    "    # regular expression to extract metadata from the filename\n",
    "    pattern = re.compile(r\"(?P<shortPublicationName>[a-z]+)(?P<dateIssued>\\d{4})n(?P<issueNumber>\\d{2})_(?P<page>\\d{3})_plaintext_*\")\n",
    "    match = pattern.match(get_file_name(src))\n",
    "    if match:\n",
    "        return match.groupdict()\n",
    "    else:\n",
    "        return {}\n",
    "    \n",
    "# test on first file\n",
    "print(get_meta_from_filename(text_files[0]))"
   ]
  },
  {
   "cell_type": "code",
   "execution_count": 4,
   "metadata": {},
   "outputs": [
    {
     "name": "stdout",
     "output_type": "stream",
     "text": [
      "{'title': 'SATURA RĀDĪTĀJS', 'subheadline': '', 'author': '', 'section': '', 'uri': 'http://dom.lndb.lv/data/obj/125563'}\n",
      "I\n",
      "i. VISPĀRĒJIE RAKSTI LPP.\n",
      "Baumanis, A. Pieci gadi . . . . . .. . 119\n",
      "— Gaumi un paliekošas vērtības . . . . . . . . . . . . 213\n",
      "Druva, J. Strādāt un vērtēt . . . . . . . . . . . . . . 5\n",
      "ļurevičs, P. Tradiciju jēga 7\n",
      "Kalve, V. Svētīts ir darbs! ... . 121\n",
      "Tichovskis, H. Jaunā Latgale 4°5\n",
      "Ulmanis, K. Draudzīgais aicinājums . . . . 117\n",
      "2. RAKSTNIECĪBA UN ŽURNĀLISTIKA\n",
      "Aistars, E. Dzīvais cilvēks . . . .. . . . . 319\n",
      "Baumanis, A, Žurnālista piezīmes . . 413\n",
      "Bičolis, J. Par literātūras kritiku . . . ... . 420\n",
      "Cedriņš, V. Edvarta Virzas piemiņai • 222\n",
      "Grīns, A. Mūžīgās dzīvības dzejnieks 136\n",
      "Kadilis, /. Galvenās problēmas mūsu literatūra 512\n",
      "Kārkliņš, /. Par Kārli Skalbi . • • - 28\n",
      "Korsaks, K. Svarīgākās problēmas lietuvju literātūrā 531\n",
      "Nonācs.. O. Latviešu prese laiku mijās 14\n",
      "Rabācs, K. Ziņotāja darbs laikrakstā 229\n",
      "Skuja, V. Latgales rakstnieku attīstības gaitas Brīvajā Latvijā 546\n",
      "Sproģere, O. Aleksandra Čaka Mūžības skartie . . 131\n",
      "Straubergs, K. Latviešu rakstnie\n"
     ]
    }
   ],
   "source": [
    "# next we will want to combine meta data from file name with metadata from the file itself\n",
    "# let's write a function that will take file path and return metadata from the file\n",
    "# metatadata will be in the form of key value pairs\n",
    "# metadata is at the beginning of the file and is in the form key: value\n",
    "# once three newlines are encountered we can stop reading metadata\n",
    "def get_meta_txt_from_file(zip_ref, src: str, newline_count=3) -> tuple[dict[str, str], str]:\n",
    "    metadata = {}\n",
    "    empty_lines = 0\n",
    "    txt_lines = []\n",
    "\n",
    "    with zip_ref.open(src) as file:\n",
    "        for line in file:\n",
    "            line = line.decode(\"utf-8\")\n",
    "            if line == \"\\r\\n\": # NOTE on Linux and MacOS this would be just \\n\n",
    "                empty_lines += 1\n",
    "                continue\n",
    "            if empty_lines >= newline_count:\n",
    "                txt_lines.append(line)\n",
    "                continue\n",
    "            # we want to split by first colon ONLY\n",
    "            tokens = line.split(\":\", 1)\n",
    "            # print(tokens)\n",
    "            key, value = line.split(\":\", 1)\n",
    "            value = value.strip()\n",
    "            metadata[key] = value\n",
    "    txt = \"\".join(txt_lines)\n",
    "    return metadata, txt\n",
    "\n",
    "# test on first file\n",
    "with zipfile.ZipFile(zip_file, 'r') as zip_ref:\n",
    "    meta, txt = get_meta_txt_from_file(zip_ref, text_files[0])\n",
    "print(meta)\n",
    "print(txt[:1000])"
   ]
  },
  {
   "cell_type": "code",
   "execution_count": 5,
   "metadata": {},
   "outputs": [
    {
     "name": "stdout",
     "output_type": "stream",
     "text": [
      "('title', 'SATURA RĀDĪTĀJS')\n",
      "('subheadline', '')\n",
      "('author', '')\n",
      "('section', '')\n",
      "('uri', 'http://dom.lndb.lv/data/obj/125563')\n",
      "('shortPublicationName', 'rama')\n",
      "('dateIssued', '1940')\n",
      "('issueNumber', '01')\n",
      "('page', '005')\n",
      "I\n",
      "i. VISPĀRĒJIE RAKSTI LPP.\n",
      "Baumanis, A. Pieci gadi . . . . . .. . 119\n",
      "— Gaumi un paliekošas vērtības . . . . . . . . . . . . 213\n",
      "Druva, J. Strādāt un vērtēt . . . . . . . . . . . . . . 5\n",
      "ļurevičs, P. Tradiciju jēga 7\n",
      "Kalve, V. Svētīts ir darbs! ... . 121\n",
      "Tichovskis, H. Jaunā Latgale 4°5\n",
      "Ulmanis, K. Draudzīgais aicinājums . . . . 117\n",
      "2. RAKSTNIECĪBA UN ŽURNĀLISTIKA\n",
      "Aistars, E. Dzīvais cilvēks . . . .. . . . . 319\n",
      "Baumanis, A, Žurnālista piezīmes . . 413\n",
      "Bičolis, J. Par literātūras kritiku . . . ... . 420\n",
      "Cedriņš, V. Edvarta Virzas piemiņai • 222\n",
      "Grīns, A. Mūžīgās dzīvības dzejnieks 136\n",
      "Kadilis, /. Galvenās problēmas mūsu literatūra 512\n",
      "Kārkliņš, /. Par Kārli Skalbi . • • - 28\n",
      "Korsaks, K. Svarīgākās problēmas lietuvju literātūrā 531\n",
      "Nonācs.. O. Latviešu prese laiku mijās 14\n",
      "Rabācs, K. Ziņotāja darbs laikrakstā 229\n",
      "Skuja, V. Latgales rakstnieku attīstības gaitas Brīvajā Latvijā 546\n",
      "Sproģere, O. Aleksandra Čaka Mūžības skartie . . 131\n",
      "Straubergs, K. Latviešu rakstnie\n"
     ]
    }
   ],
   "source": [
    "# now let's create a function that given file and zip file will return metadata from the file and metadata from the file name combined as well as text\n",
    "def get_all_meta_txt(zip_ref, src: str) -> tuple[dict[str, str], str]:\n",
    "    meta_file, txt = get_meta_txt_from_file(zip_ref, src)\n",
    "    meta_name = get_meta_from_filename(src)\n",
    "    meta = {**meta_file, **meta_name}\n",
    "    return meta, txt\n",
    "\n",
    "# test on first file\n",
    "with zipfile.ZipFile(zip_file, 'r') as zip_ref:\n",
    "    meta, txt = get_all_meta_txt(zip_ref, text_files[0])\n",
    "print(*meta.items(), sep=\"\\n\")\n",
    "print(txt[:1000])"
   ]
  },
  {
   "cell_type": "code",
   "execution_count": 6,
   "metadata": {},
   "outputs": [
    {
     "name": "stdout",
     "output_type": "stream",
     "text": [
      "('title', 'SATURS')\n",
      "('subheadline', '')\n",
      "('author', '')\n",
      "('section', '')\n",
      "('uri', 'http://dom.lndb.lv/data/obj/237615')\n",
      "('shortPublicationName', 'rama')\n",
      "('dateIssued', '1940')\n",
      "('issueNumber', '06')\n",
      "('page', '086')\n",
      "Lpp.\n",
      "Kārlis Straubergs. Latviešu rakstniecība tagadējā laikmetā 501\n",
      "Paulīne Bārda. Asara. Dzejolis . . 511\n",
      "Jānis Kadilis. Galvenās problēmas mūsu literātūrā . . 512\n",
      "Kostas Korsaks. Svarīgākās problēmas lietuvju literātūrā 531\n",
      "Frideberts Tuglass. Igaunijas šīsdienas rakstniecība . 537\n",
      "Viktors Skuja. Latgales rakstnieku attīstības gaitas Brīvajā Latvijā 546\n",
      "APSKATS\n",
      "Rakstu un mākslas kameras darbs 554\n",
      "Kritika 563\n",
      "C hronika 571\n",
      "Bibliogrāfija 575\n",
      "llūstrāciju pielikumi uz atsevišķām lapām: Ed. Kalniņš. lela Rēzekni. Fr. Varslavāns.\n",
      "Rēzeknes nomale.\n",
      "Nošu pielikums: J. Zālīts. Mazurka. (Klavierēm.)\n"
     ]
    }
   ],
   "source": [
    "# ok how about the last file\n",
    "with zipfile.ZipFile(zip_file, 'r') as zip_ref:\n",
    "    meta, txt = get_all_meta_txt(zip_ref, text_files[-1])\n",
    "print(*meta.items(), sep=\"\\n\")\n",
    "print(txt[:1000])"
   ]
  },
  {
   "cell_type": "code",
   "execution_count": 7,
   "metadata": {},
   "outputs": [
    {
     "name": "stdout",
     "output_type": "stream",
     "text": [
      "<doc title=\"SATURS\" subheadline=\"\" author=\"\" section=\"\" uri=\"http://dom.lndb.lv/data/obj/237615\" shortPublicationName=\"rama\" dateIssued=\"1940\" issueNumber=\"06\" page=\"086\">Lpp.\n",
      "Kārlis Straubergs. Latviešu rakstniecība tagadējā laikmetā 501\n",
      "Paulīne Bārda. Asara. Dzejolis . . 511\n",
      "Jānis Kadilis. Galvenās problēmas mūsu literātūrā . . 512\n",
      "Kostas Korsaks. Svarīgākās problēmas lietuvju literātūrā 531\n",
      "Frideberts Tuglass. Igaunijas šīsdienas rakstniecība . 537\n",
      "Viktors Skuja. Latgales rakstnieku attīstības gaitas Brīvajā Latvijā 546\n",
      "APSKATS\n",
      "Rakstu un mākslas kameras darbs 554\n",
      "Kritika 563\n",
      "C hronika 571\n",
      "Bibliogrāfija 575\n",
      "llūstrāciju pielikumi uz atsevišķām lapām: Ed. Kalniņš. lela Rēzekni. Fr. Varslavāns.\n",
      "Rēzeknes nomale.\n",
      "Nošu pielikums: J. Zālīts. Mazurka. (Klavierēm.)</doc>\n"
     ]
    }
   ],
   "source": [
    "# now let's write a function that given meta and text will create xml with doc tag with metadata as attributes and text as content\n",
    "def create_xml(meta: dict[str, str], txt: str, strip_symbols=True) -> str:\n",
    "    if strip_symbols:\n",
    "        # we need to strip < and > from the text in order to create valid xml\n",
    "        txt = txt.replace(\"<\", \"\").replace(\">\", \"\")\n",
    "\n",
    "    xml = f\"<doc {' '.join([f'{k}=\"{v}\"' for k, v in meta.items()])}>{txt}</doc>\"\n",
    "    return xml\n",
    "\n",
    "# test on first file\n",
    "xml = create_xml(meta, txt)\n",
    "print(xml[:1000])"
   ]
  },
  {
   "cell_type": "markdown",
   "metadata": {},
   "source": [
    "##  Creating Combined XML file"
   ]
  },
  {
   "cell_type": "code",
   "execution_count": 8,
   "metadata": {},
   "outputs": [
    {
     "name": "stderr",
     "output_type": "stream",
     "text": [
      "100%|██████████| 220/220 [00:00<00:00, 426.32it/s]\n"
     ]
    }
   ],
   "source": [
    "# now let's write a function that will take zip file and output file and will create xml file with all the text files\n",
    "def create_xml_file(zip_file, output_file):\n",
    "    # get list of text files in the zip file\n",
    "    with zipfile.ZipFile(zip_file, 'r') as zip_ref:\n",
    "        text_files = [f for f in zip_ref.namelist() if f.endswith(\".txt\")]\n",
    "\n",
    "        with open(output_file, \"w\", encoding=\"utf-8\") as f:\n",
    "            for src in tqdm(text_files):\n",
    "                meta, txt = get_all_meta_txt(zip_ref, src) # get metadata and text\n",
    "                xml = create_xml(meta, txt)\n",
    "                f.write(xml)\n",
    "                f.write(\"\\n\")\n",
    "\n",
    "# test zip_file\n",
    "output_file = Path(r\"I:\\xml\\raksti_un_maksla_articles.xml\")\n",
    "\n",
    "create_xml_file(zip_file, output_file)\n",
    "\n",
    "\n"
   ]
  }
 ],
 "metadata": {
  "kernelspec": {
   "display_name": "py312",
   "language": "python",
   "name": "python3"
  },
  "language_info": {
   "codemirror_mode": {
    "name": "ipython",
    "version": 3
   },
   "file_extension": ".py",
   "mimetype": "text/x-python",
   "name": "python",
   "nbconvert_exporter": "python",
   "pygments_lexer": "ipython3",
   "version": "3.12.6"
  }
 },
 "nbformat": 4,
 "nbformat_minor": 2
}
