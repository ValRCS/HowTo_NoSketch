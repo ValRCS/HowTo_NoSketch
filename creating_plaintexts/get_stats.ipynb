{
 "cells": [
  {
   "cell_type": "markdown",
   "metadata": {},
   "source": [
    "# Get Statistics on Existing Data\n",
    "\n",
    "Before we proceed with conversion of the data to a format that can be used by the NoSketch Engine let's first get some statistics on the existing data. This will help us understand the data better and also help us in making decisions on how to proceed with the data conversion."
   ]
  },
  {
   "cell_type": "code",
   "execution_count": 5,
   "metadata": {},
   "outputs": [],
   "source": [
    "from pathlib import Path\n",
    "import zipfile\n",
    "# TODO Write a function that takes a zipfile and provides statistics on its contents\n",
    "# The function should return a dictionary with the following keys\n",
    "# - number_of_first_level_folders (this would indicate how many individual issues are in the zip) \n",
    "# - number_of_files_across_all_folders\n",
    "# - total_size\n",
    "# - largest_file - value would be tuple with file name and size\n",
    "# - smallest_file - value would be tuple with file name and size\n",
    "# - files_with_no_extension\n",
    "# - common_extensions - value would be a list of tuples with extension and count\n",
    "# TODO could add more keys if you think they would be useful\n",
    "\n",
    "# it would be nice to also have the following optional keys, provided as arguments to the function\n",
    "# suffix_with_extension_count\n",
    "# for example _ocr_xml_count - would be a count of files ending with _ocr.xml - \n",
    "# note how key is constructed from suffix but uses _ instead of . where applicable\n",
    "\n",
    "def get_stats(src_zip: str|Path, suffixes=(\"_ocr.xml\",\"_alto.xml\")) -> dict:\n",
    "    stats_dict = {}\n",
    "    # TODO\n",
    "    return stats_dict\n"
   ]
  },
  {
   "cell_type": "code",
   "execution_count": 6,
   "metadata": {},
   "outputs": [],
   "source": [
    "# TODO\n",
    "# when get_stats function is written\n",
    "# next step would be to write a function that takes a folder and provides statistics on all zip files in the folder and its subfolders\n",
    "# the function should return a dictionary with the following keys\n",
    "# - number_of_zip_files\n",
    "# - total_size\n",
    "# - largest_zip_file - value would be tuple with file name and size\n",
    "# - smallest_zip_file - value would be tuple with file name and size\n",
    "# - zip_file_stats - value would be a dictionary where keys are zip file names and values are the output of get_stats function (another dictionary)\n",
    "# thus zip_file_stats key value would be a dictionary of dictionaries\n",
    "\n",
    "def get_stats_on_zips(src_folder: str|Path) -> dict:\n",
    "    zip_dict = {}\n",
    "    # TODO\n",
    "    return zip_dict"
   ]
  },
  {
   "cell_type": "markdown",
   "metadata": {},
   "source": [
    "## Statistics on Articles subfolder\n",
    "\n",
    "Our institutution has a large number of plaintext articles already available and stored in our local system. These articles are stored in the `articles` subfolder. Let's first get some statistics on these articles.\n"
   ]
  },
  {
   "cell_type": "code",
   "execution_count": null,
   "metadata": {},
   "outputs": [],
   "source": [
    "# TODO\n",
    "# Generate statistics on the zip files in the articles subfolder of the zips folder\n",
    "# example of file names inside the individual zip files\n",
    "# cina1991n110-111_029_plaintext_s45.txt\n",
    "# cina1991n109_016_plaintext_s25.txt\n",
    "# the letters before the number indicate the publication name or its shorthand\n",
    "# then there is a four digit number indicating the year\n",
    "# then there is a letter n followed by a number indicating the issue\n",
    "# note that sometimes there are two issues together indicated by - and two numbers\n",
    "# then there is an underscore followed by a number indicating the page - we are not interested in this number at this time\n",
    "# thus we want to write two functions\n",
    "# first will get stats on individual zip files\n",
    "# second will get stats on all zip files in the articles subfolder of the zips folder\n",
    "\n",
    "# TODO\n",
    "def get_article_stats(zip_file: str|Path) -> dict:\n",
    "    article_stats_dict = {}\n",
    "    # TODO\n",
    "    # we want the following keys:\n",
    "    # number_of_articles\n",
    "    # number_of_issues (that is the number of unique publication name and year combinations)\n",
    "    # min_year\n",
    "    # max_year\n",
    "    # year_XXXX_issue_count (where XXXX is the year) for example year_1991_count\n",
    "    # years_active (a list of years that have issues)\n",
    "    # min_file_size\n",
    "    # max_file_size\n",
    "    # median_file_size\n",
    "    # anything else you think would be useful\n",
    "    return article_stats_dict\n",
    "\n",
    "\n",
    "def get_stats_on_articles(src_folder: str|Path) -> dict:\n",
    "    article_dict = {}\n",
    "    # for each file in the articles subfolder of the zips folder\n",
    "    # get the stats using get_article_stats function\n",
    "    # use keys that are the file names\n",
    "    for file in Path(src_folder).glob(\"*.zip\"):\n",
    "        article_dict[file.name] = get_article_stats(file)\n",
    "    return article_dict\n",
    "\n",
    "# convert article_dict to a pandas dataframe\n",
    "# write the dataframe to a csv file"
   ]
  }
 ],
 "metadata": {
  "kernelspec": {
   "display_name": "venv312",
   "language": "python",
   "name": "python3"
  },
  "language_info": {
   "codemirror_mode": {
    "name": "ipython",
    "version": 3
   },
   "file_extension": ".py",
   "mimetype": "text/x-python",
   "name": "python",
   "nbconvert_exporter": "python",
   "pygments_lexer": "ipython3",
   "version": "3.12.6"
  }
 },
 "nbformat": 4,
 "nbformat_minor": 2
}
