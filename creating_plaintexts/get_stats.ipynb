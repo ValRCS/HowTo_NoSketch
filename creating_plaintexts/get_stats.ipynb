{
 "cells": [
  {
   "cell_type": "markdown",
   "metadata": {},
   "source": [
    "# Get Statistics on Existing Data\n",
    "\n",
    "Before we proceed with conversion of the data to a format that can be used by the NoSketch Engine let's first get some statistics on the existing data. This will help us understand the data better and also help us in making decisions on how to proceed with the data conversion."
   ]
  },
  {
   "cell_type": "code",
   "execution_count": null,
   "metadata": {},
   "outputs": [],
   "source": [
    "# TODO Write a function that takes a zipfile and provides statistics on its contents\n",
    "# The function should return a dictionary with the following keys\n",
    "# - number_of_first_level_folders\n",
    "# - number_of_files_across_all_folders\n",
    "# - total_size\n",
    "# - largest_file - value would be tuple with file name and size\n",
    "# - smallest_file - value would be tuple with file name and size\n",
    "# - files_with_no_extension\n",
    "# - common_extensions - value would be a list of tuples with extension and count\n",
    "# TODO could add more keys if you think they would be useful\n",
    "\n",
    "# it would be nice to also have the following optional keys, provided as arguments to the function\n",
    "# suffix_with_extension_count\n",
    "# for example _ocr_xml_count - would be a count of files ending with _ocr.xml - \n",
    "\n",
    "def get_stats(src_zip, suffixes=(\"_ocr.xml\",\"_alto.xml\")):\n",
    "    stats_dict = {}\n",
    "    # TODO\n",
    "    return stats_dict\n"
   ]
  },
  {
   "cell_type": "code",
   "execution_count": null,
   "metadata": {},
   "outputs": [],
   "source": []
  }
 ],
 "metadata": {
  "language_info": {
   "name": "python"
  }
 },
 "nbformat": 4,
 "nbformat_minor": 2
}
