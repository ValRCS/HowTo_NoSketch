{
 "cells": [
  {
   "cell_type": "markdown",
   "metadata": {},
   "source": [
    "# Plaintext to XML conversion\n",
    "\n",
    "Once we have decided on suitable corpus for conversion we need to convert the plaintext to XML format.\n",
    "This particular XML format is used by tagging tools in NLP for Latvian language to create annotated corpora in .vert format suitable for compilation by NoSketch Engine.\n",
    "\n",
    "## XML format \n",
    "\n",
    "This XML format is as follows, each document is enclosed in `<doc>` and finishes with `</doc>`.\n",
    "Doc tag could also have attributes such as creator, title, date, etc.\n",
    "For example `<doc id=\"1\" title=\"Paul Clifford\" year=\"1830\" creator=\"Edward Bulwer-Lytton\">It was a dark and stormy night</doc>`\n",
    "\n",
    " This is a simple process and can be done using the following steps:\n",
    "1. Obtain list of plaintext files (could be inside zip file(s)) from desired source location\n",
    "2. Read indivudal plaintext file(s) and convert to XML format\n",
    "3. Concatenate all XML files into a single XML file \n",
    "4. Save the final XML file into desired destination location\n",
    "\n",
    "## Particulars of plaintext file\n",
    "\n",
    "Our plaintext files contain metadata information at the beginning of the file, followed by the actual text.\n",
    "The metadata information is separated by three or more newlines from the actual text.\n",
    "Metadata has the format `key: value` and each key-value pair is separated by newline.\n",
    "In addition some metadata is provided by filename itself, for example filename could be `author_title_year.txt` and this information can be extracted from filename."
   ]
  },
  {
   "cell_type": "code",
   "execution_count": 2,
   "metadata": {},
   "outputs": [
    {
     "name": "stdout",
     "output_type": "stream",
     "text": [
      "Python version: 3.12.6 (tags/v3.12.6:a4a2d2b, Sep  6 2024, 20:11:23) [MSC v.1940 64 bit (AMD64)]\n",
      "Current date and time: 2024-09-20 12:04:02.957182\n"
     ]
    }
   ],
   "source": [
    "# import standard libraries\n",
    "from pathlib import Path\n",
    "import zipfile\n",
    "from datetime import datetime\n",
    "import re\n",
    "# we could use XML libraries but for this simple task we can use string manipulation\n",
    "import sys\n",
    "# print Python version\n",
    "print(f\"Python version: {sys.version}\")\n",
    "# datetime to see when the script was run last\n",
    "print(f\"Current date and time: {datetime.now()}\")\n",
    "# import third-party libraries\n",
    "from tqdm import tqdm"
   ]
  }
 ],
 "metadata": {
  "kernelspec": {
   "display_name": "venv312",
   "language": "python",
   "name": "python3"
  },
  "language_info": {
   "codemirror_mode": {
    "name": "ipython",
    "version": 3
   },
   "file_extension": ".py",
   "mimetype": "text/x-python",
   "name": "python",
   "nbconvert_exporter": "python",
   "pygments_lexer": "ipython3",
   "version": "3.12.6"
  }
 },
 "nbformat": 4,
 "nbformat_minor": 2
}
