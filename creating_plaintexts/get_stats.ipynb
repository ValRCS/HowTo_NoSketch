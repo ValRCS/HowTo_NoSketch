{
 "cells": [
  {
   "cell_type": "markdown",
   "metadata": {},
   "source": [
    "# Get Statistics on Existing Data\n",
    "\n",
    "Before we proceed with conversion of the data to a format that can be used by the NoSketch Engine let's first get some statistics on the existing data. This will help us understand the data better and also help us in making decisions on how to proceed with the data conversion."
   ]
  },
  {
   "cell_type": "code",
   "execution_count": 5,
   "metadata": {},
   "outputs": [],
   "source": [
    "from pathlib import Path\n",
    "import zipfile\n",
    "# TODO Write a function that takes a zipfile and provides statistics on its contents\n",
    "# The function should return a dictionary with the following keys\n",
    "# - number_of_first_level_folders (this would indicate how many individual issues are in the zip) \n",
    "# - number_of_files_across_all_folders\n",
    "# - total_size\n",
    "# - largest_file - value would be tuple with file name and size\n",
    "# - smallest_file - value would be tuple with file name and size\n",
    "# - files_with_no_extension\n",
    "# - common_extensions - value would be a list of tuples with extension and count\n",
    "# TODO could add more keys if you think they would be useful\n",
    "\n",
    "# it would be nice to also have the following optional keys, provided as arguments to the function\n",
    "# suffix_with_extension_count\n",
    "# for example _ocr_xml_count - would be a count of files ending with _ocr.xml - \n",
    "# note how key is constructed from suffix but uses _ instead of . where applicable\n",
    "\n",
    "def get_stats(src_zip: str|Path, suffixes=(\"_ocr.xml\",\"_alto.xml\")) -> dict:\n",
    "    stats_dict = {}\n",
    "    # TODO\n",
    "    return stats_dict\n"
   ]
  },
  {
   "cell_type": "code",
   "execution_count": 6,
   "metadata": {},
   "outputs": [],
   "source": [
    "# TODO\n",
    "# when get_stats function is written\n",
    "# next step would be to write a function that takes a folder and provides statistics on all zip files in the folder and its subfolders\n",
    "# the function should return a dictionary with the following keys\n",
    "# - number_of_zip_files\n",
    "# - total_size\n",
    "# - largest_zip_file - value would be tuple with file name and size\n",
    "# - smallest_zip_file - value would be tuple with file name and size\n",
    "# - zip_file_stats - value would be a dictionary where keys are zip file names and values are the output of get_stats function (another dictionary)\n",
    "# thus zip_file_stats key value would be a dictionary of dictionaries\n",
    "\n",
    "def get_stats_on_zips(src_folder: str|Path) -> dict:\n",
    "    zip_dict = {}\n",
    "    # TODO\n",
    "    return zip_dict"
   ]
  }
 ],
 "metadata": {
  "kernelspec": {
   "display_name": "venv312",
   "language": "python",
   "name": "python3"
  },
  "language_info": {
   "codemirror_mode": {
    "name": "ipython",
    "version": 3
   },
   "file_extension": ".py",
   "mimetype": "text/x-python",
   "name": "python",
   "nbconvert_exporter": "python",
   "pygments_lexer": "ipython3",
   "version": "3.12.6"
  }
 },
 "nbformat": 4,
 "nbformat_minor": 2
}
